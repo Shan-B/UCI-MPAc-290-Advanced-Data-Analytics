{
  "nbformat": 4,
  "nbformat_minor": 0,
  "metadata": {
    "colab": {
      "name": "HW_1.ipynb",
      "provenance": []
    },
    "kernelspec": {
      "name": "python3",
      "display_name": "Python 3"
    },
    "language_info": {
      "name": "python"
    }
  },
  "cells": [
    {
      "cell_type": "markdown",
      "metadata": {
        "id": "VVOf8urT9wNQ"
      },
      "source": [
        "<p>What is the value of <code>x</code> where <code>x = 3 + 2 * 2</code></p>"
      ]
    },
    {
      "cell_type": "code",
      "metadata": {
        "colab": {
          "base_uri": "https://localhost:8080/"
        },
        "id": "6H5BdkP-sgjQ",
        "outputId": "e0270968-ad87-4402-b1a7-4f8f034c35c4"
      },
      "source": [
        "x = 3 + 2 * 2\n",
        "x"
      ],
      "execution_count": 3,
      "outputs": [
        {
          "output_type": "execute_result",
          "data": {
            "text/plain": [
              "7"
            ]
          },
          "metadata": {
            "tags": []
          },
          "execution_count": 3
        }
      ]
    },
    {
      "cell_type": "markdown",
      "metadata": {
        "id": "EAPea0lO9wJx"
      },
      "source": [
        "<p>What is the value of <code>y</code> where <code>y = (3 + 2) * 2</code>?</p>"
      ]
    },
    {
      "cell_type": "code",
      "metadata": {
        "colab": {
          "base_uri": "https://localhost:8080/"
        },
        "id": "YDNMTDresyAa",
        "outputId": "698256e1-b385-410a-ea2f-b13096079713"
      },
      "source": [
        "y = (3 + 2) * 2\n",
        "y"
      ],
      "execution_count": 25,
      "outputs": [
        {
          "output_type": "execute_result",
          "data": {
            "text/plain": [
              "10"
            ]
          },
          "metadata": {
            "tags": []
          },
          "execution_count": 25
        }
      ]
    },
    {
      "cell_type": "markdown",
      "metadata": {
        "id": "9sHsht_t-A2T"
      },
      "source": [
        "<p>What is the value of <code>z</code> where <code>z = x + y</code>?</p>"
      ]
    },
    {
      "cell_type": "code",
      "metadata": {
        "colab": {
          "base_uri": "https://localhost:8080/"
        },
        "id": "WS7N2Hvwv70J",
        "outputId": "87346e00-90b3-45bc-bf3e-aa97a734587c"
      },
      "source": [
        "z = x + y\n",
        "z"
      ],
      "execution_count": 20,
      "outputs": [
        {
          "output_type": "execute_result",
          "data": {
            "text/plain": [
              "17"
            ]
          },
          "metadata": {
            "tags": []
          },
          "execution_count": 20
        }
      ]
    },
    {
      "cell_type": "markdown",
      "metadata": {
        "id": "oHMt__FI-Ax6"
      },
      "source": [
        "What is the value of the variable <code>A</code> after the following code is executed? "
      ]
    },
    {
      "cell_type": "code",
      "metadata": {
        "id": "JHG4OSPW-Olo",
        "colab": {
          "base_uri": "https://localhost:8080/",
          "height": 36
        },
        "outputId": "4b303746-795b-47a2-99e8-75b35c64f010"
      },
      "source": [
        "# Write your code below and press Shift+Enter to execute \n",
        "\n",
        "A = \"1\"\n",
        "A"
      ],
      "execution_count": 54,
      "outputs": [
        {
          "output_type": "execute_result",
          "data": {
            "application/vnd.google.colaboratory.intrinsic+json": {
              "type": "string"
            },
            "text/plain": [
              "'1'"
            ]
          },
          "metadata": {
            "tags": []
          },
          "execution_count": 54
        }
      ]
    },
    {
      "cell_type": "markdown",
      "metadata": {
        "id": "AZZVic14-Avr"
      },
      "source": [
        "What is the value of the variable <code>B</code> after the following code is executed?\n"
      ]
    },
    {
      "cell_type": "code",
      "metadata": {
        "id": "khOHgOQF-YAy",
        "colab": {
          "base_uri": "https://localhost:8080/",
          "height": 36
        },
        "outputId": "b7cfb489-6822-4a5a-f4d5-2fb1c37ebf42"
      },
      "source": [
        "# Write your code below and press Shift+Enter to execute\n",
        "\n",
        "B = \"2\"\n",
        "B"
      ],
      "execution_count": 53,
      "outputs": [
        {
          "output_type": "execute_result",
          "data": {
            "application/vnd.google.colaboratory.intrinsic+json": {
              "type": "string"
            },
            "text/plain": [
              "'2'"
            ]
          },
          "metadata": {
            "tags": []
          },
          "execution_count": 53
        }
      ]
    },
    {
      "cell_type": "markdown",
      "metadata": {
        "id": "O0aKcEmw-Asb"
      },
      "source": [
        "What is the value of the variable <code>C</code> after the following code is  executed?"
      ]
    },
    {
      "cell_type": "code",
      "metadata": {
        "id": "Mg8cHJ04-do9",
        "colab": {
          "base_uri": "https://localhost:8080/",
          "height": 36
        },
        "outputId": "5890b35b-5c1f-471b-e316-1a5f6930b67d"
      },
      "source": [
        "# Write your code below and press Shift+Enter to execute \n",
        "\n",
        "C = A + B\n",
        "C"
      ],
      "execution_count": 21,
      "outputs": [
        {
          "output_type": "execute_result",
          "data": {
            "application/vnd.google.colaboratory.intrinsic+json": {
              "type": "string"
            },
            "text/plain": [
              "'12'"
            ]
          },
          "metadata": {
            "tags": []
          },
          "execution_count": 21
        }
      ]
    },
    {
      "cell_type": "markdown",
      "metadata": {
        "id": "bdIk9xHf-Apo"
      },
      "source": [
        "Consider the variable <code>D</code> use slicing to print out the first three elements:"
      ]
    },
    {
      "cell_type": "code",
      "metadata": {
        "id": "RXMfBhXR-i-k",
        "colab": {
          "base_uri": "https://localhost:8080/"
        },
        "outputId": "0fb07088-fdad-4571-c38c-3aec4a8df95a"
      },
      "source": [
        "# Write your code below and press Shift+Enter to execute\n",
        "\n",
        "D = \"ABCDEFG\"\n",
        "print (D[0:3])"
      ],
      "execution_count": 39,
      "outputs": [
        {
          "output_type": "stream",
          "text": [
            "ABC\n"
          ],
          "name": "stdout"
        }
      ]
    },
    {
      "cell_type": "markdown",
      "metadata": {
        "id": "aIAuAQTC-lcN"
      },
      "source": [
        "Use a stride value of 2 to print out every second character of the string E:"
      ]
    },
    {
      "cell_type": "code",
      "metadata": {
        "id": "IakX9t_4-mEg",
        "colab": {
          "base_uri": "https://localhost:8080/"
        },
        "outputId": "82930b9a-2865-4229-b633-6c1fa07716b4"
      },
      "source": [
        "# Write your code below and press Shift+Enter to execute\n",
        "\n",
        "E = 'clocrkr1e1c1t'\n",
        "print (E[::2])"
      ],
      "execution_count": 50,
      "outputs": [
        {
          "output_type": "stream",
          "text": [
            "correct\n"
          ],
          "name": "stdout"
        }
      ]
    },
    {
      "cell_type": "markdown",
      "metadata": {
        "id": "lWchuFsL-ps0"
      },
      "source": [
        "Print out a backslash:"
      ]
    },
    {
      "cell_type": "code",
      "metadata": {
        "colab": {
          "base_uri": "https://localhost:8080/"
        },
        "id": "5c70SYvExGkK",
        "outputId": "58e2cabf-d035-4869-c36e-a45979b48347"
      },
      "source": [
        "print (\"\\\\\") # or print(r\"\\ \")"
      ],
      "execution_count": 48,
      "outputs": [
        {
          "output_type": "stream",
          "text": [
            "\\\n"
          ],
          "name": "stdout"
        }
      ]
    },
    {
      "cell_type": "markdown",
      "metadata": {
        "id": "PuR77UMq-rrE"
      },
      "source": [
        "Convert the variable F to uppercase:"
      ]
    },
    {
      "cell_type": "code",
      "metadata": {
        "id": "T28ZtD8H-tGq",
        "colab": {
          "base_uri": "https://localhost:8080/"
        },
        "outputId": "187e608e-83bc-46a8-e16d-afca3714a0db"
      },
      "source": [
        "# Write your code below and press Shift+Enter to execute\n",
        "\n",
        "F = \"You are wrong\"\n",
        "F = F.upper ()\n",
        "print (F)"
      ],
      "execution_count": 55,
      "outputs": [
        {
          "output_type": "stream",
          "text": [
            "YOU ARE WRONG\n"
          ],
          "name": "stdout"
        }
      ]
    },
    {
      "cell_type": "markdown",
      "metadata": {
        "id": "Hzcgzt8t-vkm"
      },
      "source": [
        "Consider the variable G, and find the first index of the sub-string snow:"
      ]
    },
    {
      "cell_type": "code",
      "metadata": {
        "id": "lf1xzaHd-xaq",
        "colab": {
          "base_uri": "https://localhost:8080/"
        },
        "outputId": "065ecff4-b712-4f8b-fef9-71c25a5efad5"
      },
      "source": [
        "# Write your code below and press Shift+Enter to execute\n",
        "\n",
        "G = \"Mary had a little lamb Little lamb, little lamb Mary had a little lamb \\\n",
        "Its fleece was white as snow And everywhere that Mary went Mary went, Mary went \\\n",
        "Everywhere that Mary went The lamb was sure to go\"\n",
        "G.find('snow')"
      ],
      "execution_count": 58,
      "outputs": [
        {
          "output_type": "execute_result",
          "data": {
            "text/plain": [
              "95"
            ]
          },
          "metadata": {
            "tags": []
          },
          "execution_count": 58
        }
      ]
    },
    {
      "cell_type": "markdown",
      "metadata": {
        "id": "PBco1don-0Qu"
      },
      "source": [
        "In the variable G, replace the sub-string Mary with Bob:"
      ]
    },
    {
      "cell_type": "code",
      "metadata": {
        "colab": {
          "base_uri": "https://localhost:8080/",
          "height": 54
        },
        "id": "gSp7DJ317JcV",
        "outputId": "6de13b68-bb9c-461b-9da9-45af0fbc1d72"
      },
      "source": [
        "G = G.replace('Mary', 'Bob')\n",
        "G"
      ],
      "execution_count": 69,
      "outputs": [
        {
          "output_type": "execute_result",
          "data": {
            "application/vnd.google.colaboratory.intrinsic+json": {
              "type": "string"
            },
            "text/plain": [
              "'Bob had a little lamb Little lamb, little lamb Bob had a little lamb Its fleece was white as snow And everywhere that Bob went Bob went, Bob went Everywhere that Bob went The lamb was sure to go'"
            ]
          },
          "metadata": {
            "tags": []
          },
          "execution_count": 69
        }
      ]
    },
    {
      "cell_type": "markdown",
      "metadata": {
        "id": "2UXuORGM-7oy"
      },
      "source": [
        "Create a list <code>a_list</code>, with the following elements <code>1</code>, <code>hello</code>, <code>[1,2,3]</code> and <code>True</code>. "
      ]
    },
    {
      "cell_type": "code",
      "metadata": {
        "colab": {
          "base_uri": "https://localhost:8080/"
        },
        "id": "ffDeX13A80l5",
        "outputId": "b1256814-1ac7-4d08-afe8-051c6013beb0"
      },
      "source": [
        "a_list = [1, 'hello', [1,2,3], True]\n",
        "a_list"
      ],
      "execution_count": 74,
      "outputs": [
        {
          "output_type": "execute_result",
          "data": {
            "text/plain": [
              "[1, 'hello', [1, 2, 3], True]"
            ]
          },
          "metadata": {
            "tags": []
          },
          "execution_count": 74
        }
      ]
    },
    {
      "cell_type": "markdown",
      "metadata": {
        "id": "4BOG1ckX_EwT"
      },
      "source": [
        "Given the following dictionary answer the questions:"
      ]
    },
    {
      "cell_type": "code",
      "metadata": {
        "id": "iaxZf2BY_IF6",
        "colab": {
          "base_uri": "https://localhost:8080/"
        },
        "outputId": "97bf0b8b-c3b8-4438-d898-af8beb46cf00"
      },
      "source": [
        "# Question sample dictionary\n",
        "\n",
        "soundtrack_dic = {\"The Bodyguard\":\"1992\", \"Saturday Night Fever\":\"1977\"}\n",
        "soundtrack_dic "
      ],
      "execution_count": 75,
      "outputs": [
        {
          "output_type": "execute_result",
          "data": {
            "text/plain": [
              "{'Saturday Night Fever': '1977', 'The Bodyguard': '1992'}"
            ]
          },
          "metadata": {
            "tags": []
          },
          "execution_count": 75
        }
      ]
    },
    {
      "cell_type": "markdown",
      "metadata": {
        "id": "3Licsh5Q_MB4"
      },
      "source": [
        "a) In the dictionary soundtrack_dict what are the keys ?\n",
        "\n",
        "Keys are soundtrack title and soundtrack year.\n",
        "\n",
        "b) In the dictionary soundtrack_dict what are the values ?\n",
        "\n",
        "Values are the answers, such as The Bodyguard (title) and 1992 (year), etc.\n"
      ]
    },
    {
      "cell_type": "code",
      "metadata": {
        "colab": {
          "base_uri": "https://localhost:8080/"
        },
        "id": "kgAB8eq-C6Xm",
        "outputId": "5eb61605-f5e6-4538-ceb6-6f5b93fb57e4"
      },
      "source": [
        "thisdict =\t{\n",
        "  \"album\": \"The Bodyguard\",\n",
        "  \"year\": 1992\n",
        "}\n",
        "print(thisdict) # for example"
      ],
      "execution_count": 80,
      "outputs": [
        {
          "output_type": "stream",
          "text": [
            "{'album': 'The Bodyguard', 'year': 1992}\n"
          ],
          "name": "stdout"
        }
      ]
    }
  ]
}